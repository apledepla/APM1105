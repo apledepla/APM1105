{
 "cells": [
  {
   "cell_type": "code",
   "execution_count": null,
   "metadata": {},
   "outputs": [],
   "source": [
    "import math\n",
    "\n",
    "km = input(\"Input kilometers \")\n",
    "\n",
    "mins= input(\"Input minutes \")\n",
    "secs= input(\"Input seconds \")\n",
    "secs= float(secs)/60\n",
    "mile = 1.61\n",
    "\n",
    "ans = float(km)/mile\n",
    "\n",
    "print(\"%.2f\"%ans + \" Miles\")\n",
    "\n",
    "mins= float(mins)+float(secs)\n",
    "\n",
    "pace= float(mins)/ans\n",
    "pacetry= math.trunc(float(mins)/ans)\n",
    "\n",
    "pacesec= float(pace) - float(pacetry)\n",
    "\n",
    "pacesec= pacesec*60\n",
    "\n",
    "\n",
    "hrs= float(mins)/60\n",
    "\n",
    "print(\"Average pace is \" + \"%.0f \"%pacetry + \"Minutes  \" + \"%.0f \"%pacesec + \"Seconds\")\n",
    "\n",
    "milesperhr = float(ans)/hrs\n",
    "\n",
    "\n",
    "print(\"Average speed is \"+\"%.2f\"%milesperhr + \" Miles per hour\")"
   ]
  },
  {
   "cell_type": "markdown",
   "metadata": {},
   "source": [
    "Number 2 and 3"
   ]
  }
 ],
 "metadata": {
  "kernelspec": {
   "display_name": "Python 3",
   "language": "python",
   "name": "python3"
  },
  "language_info": {
   "codemirror_mode": {
    "name": "ipython",
    "version": 3
   },
   "file_extension": ".py",
   "mimetype": "text/x-python",
   "name": "python",
   "nbconvert_exporter": "python",
   "pygments_lexer": "ipython3",
   "version": "3.7.0"
  }
 },
 "nbformat": 4,
 "nbformat_minor": 2
}
