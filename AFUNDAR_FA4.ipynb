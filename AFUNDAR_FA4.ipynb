{
 "cells": [
  {
   "cell_type": "code",
   "execution_count": 13,
   "id": "1ac9b856",
   "metadata": {},
   "outputs": [
    {
     "name": "stdout",
     "output_type": "stream",
     "text": [
      "Note: Input numbers only!\n",
      "Input number for first number 2\n",
      "Input number for second number 4\n",
      "11\n",
      "However, if a large number is inputed for m and n, it will reach maximum recursion depth and will not run\n"
     ]
    }
   ],
   "source": [
    "def ack(m,n):\n",
    "    if m==0:\n",
    "        return n+1\n",
    "    if m>0 and n==0:\n",
    "        return ack(m-1,1)\n",
    "    if m>0 and n>0:\n",
    "        return ack(m-1, ack(m,n-1))\n",
    "\n",
    "print(\"Note: Input numbers only!\")\n",
    "    \n",
    "v = int(input(\"Input number for first number: \"))\n",
    "b = int(input(\"Input number for second number: \"))\n",
    "\n",
    "print(ack(v,b))\n",
    "\n",
    "\n",
    "print(\"However, if a large number is inputed for m and n, it will reach maximum recursion depth and will not run\")\n",
    "    \n"
   ]
  },
  {
   "cell_type": "code",
   "execution_count": 17,
   "id": "bbcbb744",
   "metadata": {},
   "outputs": [
    {
     "name": "stdout",
     "output_type": "stream",
     "text": [
      "Note: Input numbers only!\n",
      "Input number for first number: 64\n",
      "Input number for second number: 2\n",
      "True\n"
     ]
    }
   ],
   "source": [
    "def is_power(a,b):\n",
    "    if a % b == 0:\n",
    "        if a == b:\n",
    "            \n",
    "            return True\n",
    "        else:\n",
    "            return is_power(a/b,b)\n",
    "        \n",
    "    else:\n",
    "        \n",
    "        return False\n",
    "\n",
    "print(\"Note: Input numbers only!\")\n",
    "\n",
    "s = int(input(\"Input number for first number: \"))\n",
    "t = int(input(\"Input number for second number: \"))    \n",
    "    \n",
    "    \n",
    "print(is_power(s,t))"
   ]
  },
  {
   "cell_type": "code",
   "execution_count": null,
   "id": "69d65492",
   "metadata": {},
   "outputs": [],
   "source": []
  }
 ],
 "metadata": {
  "kernelspec": {
   "display_name": "Python 3 (ipykernel)",
   "language": "python",
   "name": "python3"
  },
  "language_info": {
   "codemirror_mode": {
    "name": "ipython",
    "version": 3
   },
   "file_extension": ".py",
   "mimetype": "text/x-python",
   "name": "python",
   "nbconvert_exporter": "python",
   "pygments_lexer": "ipython3",
   "version": "3.11.1"
  }
 },
 "nbformat": 4,
 "nbformat_minor": 5
}
